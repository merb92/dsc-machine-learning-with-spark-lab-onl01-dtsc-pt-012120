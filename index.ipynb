{
 "cells": [
  {
   "cell_type": "markdown",
   "metadata": {},
   "source": [
    "## Machine Learning with Spark - Lab\n",
    "\n",
    "## Introduction\n",
    "\n",
    "In the previous lesson, you saw how to manipulate data with Spark DataFrames as well as create machine learning models. In this lab, you're going to practice loading data, manipulating it, and fitting it in the Spark framework. Afterward, you're going to make use of different visualizations to see if you can get any insights from the model. This dataset is from a Taiwanese financial company, and the task is to determine which individuals are going to default on their credit card based off of characteristics such as limit balance, past payment history, age, marriage status, and sex. Let's get started!\n",
    "\n",
    "### Objectives\n",
    "\n",
    "In this lab you will: \n",
    "\n",
    "- Load and manipulate data using Spark DataFrames \n",
    "- Create a Spark ML pipeline that transforms data and runs over a grid of hyperparameters "
   ]
  },
  {
   "cell_type": "markdown",
   "metadata": {},
   "source": [
    "To begin with create a SparkSession and import the `'credit_card_default.csv'` file  into a PySpark DataFrame. "
   ]
  },
  {
   "cell_type": "code",
   "execution_count": 1,
   "metadata": {},
   "outputs": [],
   "source": [
    "# import necessary libraries\n",
    "from pyspark import SparkContext\n",
    "from pyspark.sql import SparkSession\n",
    "# initialize Spark Session\n",
    "spark = SparkSession.builder.master('local').getOrCreate()\n",
    "\n",
    "# read in csv to a spark dataframe\n",
    "spark_df = spark.read.csv('credit_card_default.csv', header='true', inferSchema='true')"
   ]
  },
  {
   "cell_type": "markdown",
   "metadata": {},
   "source": [
    "Check the datatypes to ensure that all columns are the datatype you expect."
   ]
  },
  {
   "cell_type": "code",
   "execution_count": 2,
   "metadata": {},
   "outputs": [
    {
     "data": {
      "text/plain": [
       "[('ID', 'int'),\n",
       " ('LIMIT_BAL', 'double'),\n",
       " ('SEX', 'string'),\n",
       " ('EDUCATION', 'string'),\n",
       " ('MARRIAGE', 'string'),\n",
       " ('AGE', 'int'),\n",
       " ('PAY_0', 'int'),\n",
       " ('PAY_2', 'int'),\n",
       " ('PAY_3', 'int'),\n",
       " ('PAY_4', 'int'),\n",
       " ('PAY_5', 'int'),\n",
       " ('PAY_6', 'int'),\n",
       " ('BILL_AMT1', 'double'),\n",
       " ('BILL_AMT2', 'double'),\n",
       " ('BILL_AMT3', 'double'),\n",
       " ('BILL_AMT4', 'double'),\n",
       " ('BILL_AMT5', 'double'),\n",
       " ('BILL_AMT6', 'double'),\n",
       " ('PAY_AMT1', 'double'),\n",
       " ('PAY_AMT2', 'double'),\n",
       " ('PAY_AMT3', 'double'),\n",
       " ('PAY_AMT4', 'double'),\n",
       " ('PAY_AMT5', 'double'),\n",
       " ('PAY_AMT6', 'double'),\n",
       " ('default', 'int')]"
      ]
     },
     "execution_count": 2,
     "metadata": {},
     "output_type": "execute_result"
    }
   ],
   "source": [
    "spark_df.dtypes"
   ]
  },
  {
   "cell_type": "markdown",
   "metadata": {},
   "source": [
    "Check to see how many missing values are in the dataset. This will require using the `.filter()` , `.isNull()`, and `.count()` methods."
   ]
  },
  {
   "cell_type": "code",
   "execution_count": 3,
   "metadata": {},
   "outputs": [
    {
     "name": "stdout",
     "output_type": "stream",
     "text": [
      "ID 0\n",
      "LIMIT_BAL 0\n",
      "SEX 0\n",
      "EDUCATION 0\n",
      "MARRIAGE 0\n",
      "AGE 0\n",
      "PAY_0 0\n",
      "PAY_2 0\n",
      "PAY_3 0\n",
      "PAY_4 0\n",
      "PAY_5 0\n",
      "PAY_6 0\n",
      "BILL_AMT1 0\n",
      "BILL_AMT2 0\n",
      "BILL_AMT3 0\n",
      "BILL_AMT4 0\n",
      "BILL_AMT5 0\n",
      "BILL_AMT6 0\n",
      "PAY_AMT1 0\n",
      "PAY_AMT2 0\n",
      "PAY_AMT3 0\n",
      "PAY_AMT4 0\n",
      "PAY_AMT5 0\n",
      "PAY_AMT6 0\n",
      "default 0\n"
     ]
    }
   ],
   "source": [
    "for col in spark_df.columns:\n",
    "    print(col, spark_df.filter(spark_df[col].isNull()).count())"
   ]
  },
  {
   "cell_type": "markdown",
   "metadata": {},
   "source": [
    "Now, determine how many categories there are in each of the categorical columns."
   ]
  },
  {
   "cell_type": "code",
   "execution_count": 4,
   "metadata": {},
   "outputs": [
    {
     "name": "stdout",
     "output_type": "stream",
     "text": [
      "Feature SEX has: \n",
      "[Row(SEX='Female'), Row(SEX='Male')]\n",
      "Feature EDUCATION has: \n",
      "[Row(EDUCATION='High School'), Row(EDUCATION='0'), Row(EDUCATION='5'), Row(EDUCATION='6'), Row(EDUCATION='Other'), Row(EDUCATION='Graduate'), Row(EDUCATION='College')]\n",
      "Feature MARRIAGE has: \n",
      "[Row(MARRIAGE='0'), Row(MARRIAGE='Other'), Row(MARRIAGE='Married'), Row(MARRIAGE='Single')]\n"
     ]
    }
   ],
   "source": [
    "for column, data_type in spark_df.dtypes:\n",
    "    if data_type == 'string':\n",
    "        print('Feature ' + column + ' has: ')\n",
    "        print(spark_df.select(column).distinct().collect())"
   ]
  },
  {
   "cell_type": "markdown",
   "metadata": {},
   "source": [
    "Interesting... it looks like we have some extraneous values in each of our categories. Let's look at some visualizations of each of these to determine just how many of them there are. Create bar plots of the variables `'EDUCATION'` and `'MARRIAGE'` to see how many of the undefined values there are. After doing so, come up with a strategy for accounting for the extra values."
   ]
  },
  {
   "cell_type": "code",
   "execution_count": 5,
   "metadata": {},
   "outputs": [],
   "source": [
    "import seaborn as sns\n",
    "import matplotlib.pyplot as plt"
   ]
  },
  {
   "cell_type": "code",
   "execution_count": 6,
   "metadata": {
    "scrolled": false
   },
   "outputs": [],
   "source": [
    "## plotting the categories for education\n",
    "edu_cats = spark_df.groupBy('EDUCATION').count().collect()"
   ]
  },
  {
   "cell_type": "code",
   "execution_count": 7,
   "metadata": {},
   "outputs": [
    {
     "data": {
      "text/plain": [
       "<matplotlib.axes._subplots.AxesSubplot at 0x7f860c7a4370>"
      ]
     },
     "execution_count": 7,
     "metadata": {},
     "output_type": "execute_result"
    },
    {
     "data": {
      "image/png": "[encoded data removed]",
      "text/plain": [
       "<Figure size 432x288 with 1 Axes>"
      ]
     },
     "metadata": {
      "needs_background": "light"
     },
     "output_type": "display_data"
    }
   ],
   "source": [
    "sns.barplot([x[0] for x in edu_cats], [x[1] for x in edu_cats])"
   ]
  },
  {
   "cell_type": "code",
   "execution_count": 8,
   "metadata": {},
   "outputs": [
    {
     "data": {
      "text/plain": [
       "<matplotlib.axes._subplots.AxesSubplot at 0x7f860a664b20>"
      ]
     },
     "execution_count": 8,
     "metadata": {},
     "output_type": "execute_result"
    },
    {
     "data": {
      "image/png": "[encoded data removed]",
      "text/plain": [
       "<Figure size 432x288 with 1 Axes>"
      ]
     },
     "metadata": {
      "needs_background": "light"
     },
     "output_type": "display_data"
    }
   ],
   "source": [
    "## plotting the categories for marriage\n",
    "marriage_cats = spark_df.groupBy('MARRIAGE').count().collect()\n",
    "sns.barplot([x[0] for x in marriage_cats], [x[1] for x in marriage_cats])"
   ]
  },
  {
   "cell_type": "markdown",
   "metadata": {},
   "source": [
    "It looks like there are barely any of the 0 and 5 categories. We can go ahead and throw them into the \"Other\" category since it's already operating as a catchall here. Similarly, the category \"0\" looks small, so let's throw it in with the \"Other\" values. You can do this by using a method called `.when()` from PySpark in conjunction with `.withColumn()` and `.otherwise()`.  "
   ]
  },
  {
   "cell_type": "code",
   "execution_count": 9,
   "metadata": {},
   "outputs": [],
   "source": [
    "from pyspark.sql.functions import when\n",
    "\n",
    "## changing the values in the education column\n",
    "spark_df_edu = spark_df.withColumn('EDUCATION',\n",
    "                                  when(spark_df.EDUCATION == '0', 'Other')\\\n",
    "                                  .when(spark_df.EDUCATION == '5', 'Other')\\\n",
    "                                  .when(spark_df.EDUCATION == '6', 'Other')\\\n",
    "                                  .otherwise(spark_df.EDUCATION))"
   ]
  },
  {
   "cell_type": "code",
   "execution_count": 10,
   "metadata": {},
   "outputs": [],
   "source": [
    "## changing the values in the marriage column\n",
    "\n",
    "spark_df_done = spark_df_edu.withColumn('MARRIAGE',\n",
    "                                       when(spark_df_edu.MARRIAGE == '0', 'Other')\\\n",
    "                                       .otherwise(spark_df_edu.MARRIAGE))"
   ]
  },
  {
   "cell_type": "code",
   "execution_count": 11,
   "metadata": {},
   "outputs": [
    {
     "data": {
      "text/plain": [
       "Row(ID=2, LIMIT_BAL=120000.0, SEX='Female', EDUCATION='College', MARRIAGE='Single', AGE=26, PAY_0=-1, PAY_2=2, PAY_3=0, PAY_4=0, PAY_5=0, PAY_6=2, BILL_AMT1=2682.0, BILL_AMT2=1725.0, BILL_AMT3=2682.0, BILL_AMT4=3272.0, BILL_AMT5=3455.0, BILL_AMT6=3261.0, PAY_AMT1=0.0, PAY_AMT2=1000.0, PAY_AMT3=1000.0, PAY_AMT4=1000.0, PAY_AMT5=0.0, PAY_AMT6=2000.0, default=1)"
      ]
     },
     "execution_count": 11,
     "metadata": {},
     "output_type": "execute_result"
    }
   ],
   "source": [
    "spark_df_done.head()"
   ]
  },
  {
   "cell_type": "markdown",
   "metadata": {},
   "source": [
    "Now let's take a look at all the values contained in the categorical columns of the DataFrame: "
   ]
  },
  {
   "cell_type": "code",
   "execution_count": 12,
   "metadata": {},
   "outputs": [
    {
     "name": "stdout",
     "output_type": "stream",
     "text": [
      "Feature SEX has: \n",
      "[Row(SEX='Female'), Row(SEX='Male')]\n",
      "Feature EDUCATION has: \n",
      "[Row(EDUCATION='High School'), Row(EDUCATION='Other'), Row(EDUCATION='Graduate'), Row(EDUCATION='College')]\n",
      "Feature MARRIAGE has: \n",
      "[Row(MARRIAGE='Other'), Row(MARRIAGE='Married'), Row(MARRIAGE='Single')]\n"
     ]
    }
   ],
   "source": [
    "for column, data_type in spark_df_done.dtypes:\n",
    "    if data_type == 'string':\n",
    "        print('Feature ' + column + ' has: ')\n",
    "        print(spark_df_done.select(column).distinct().collect())"
   ]
  },
  {
   "cell_type": "markdown",
   "metadata": {},
   "source": [
    "Much better. Now, let's do a little more investigation into our target variable before diving into the machine learning aspect of this project."
   ]
  },
  {
   "cell_type": "markdown",
   "metadata": {},
   "source": [
    "##  EDA\n",
    "\n",
    "Let's first look at the overall distribution of class balance of the default and not default labels. Create a barplot to compare the number of defaults vs. non-defaults. This will require using `.groupBy()` as well as an aggregation method."
   ]
  },
  {
   "cell_type": "code",
   "execution_count": 13,
   "metadata": {},
   "outputs": [
    {
     "data": {
      "text/plain": [
       "[Row(default=1, count=6635), Row(default=0, count=23364)]"
      ]
     },
     "execution_count": 13,
     "metadata": {},
     "output_type": "execute_result"
    }
   ],
   "source": [
    "default_cats = spark_df.groupBy('default').count().collect()\n",
    "default_cats"
   ]
  },
  {
   "cell_type": "code",
   "execution_count": 14,
   "metadata": {},
   "outputs": [
    {
     "data": {
      "image/png": "[encoded data removed]",
      "text/plain": [
       "<Figure size 432x288 with 1 Axes>"
      ]
     },
     "metadata": {
      "needs_background": "light"
     },
     "output_type": "display_data"
    }
   ],
   "source": [
    "sns.barplot([x[0] for x in default_cats], [x[1] for x in default_cats])\n",
    "plt.ylabel('Number of Defaults')\n",
    "plt.xticks([0,1], ['No Default', 'Default'])\n",
    "plt.show()"
   ]
  },
  {
   "cell_type": "markdown",
   "metadata": {},
   "source": [
    "Let's also visualize the difference in default rate between males and females in this dataset."
   ]
  },
  {
   "cell_type": "code",
   "execution_count": 15,
   "metadata": {},
   "outputs": [
    {
     "data": {
      "text/plain": [
       "[Row(SEX='Male', default=1, count=2873),\n",
       " Row(SEX='Female', default=0, count=14349),\n",
       " Row(SEX='Male', default=0, count=9015),\n",
       " Row(SEX='Female', default=1, count=3762)]"
      ]
     },
     "execution_count": 15,
     "metadata": {},
     "output_type": "execute_result"
    }
   ],
   "source": [
    "# perform a groupby for default and sex\n",
    "defaults_by_sex = spark_df_done.groupBy(['SEX', 'default']).count().collect()\n",
    "defaults_by_sex"
   ]
  },
  {
   "cell_type": "code",
   "execution_count": 16,
   "metadata": {},
   "outputs": [
    {
     "data": {
      "text/plain": [
       "[Row(SEX='Male', default=1, count=2873),\n",
       " Row(SEX='Male', default=0, count=9015)]"
      ]
     },
     "execution_count": 16,
     "metadata": {},
     "output_type": "execute_result"
    }
   ],
   "source": [
    "# make barplot for female and male default v no default rate\n",
    "male_data = [defaults_by_sex[0], defaults_by_sex[2]]\n",
    "male_data"
   ]
  },
  {
   "cell_type": "code",
   "execution_count": 17,
   "metadata": {},
   "outputs": [
    {
     "data": {
      "text/plain": [
       "[Row(SEX='Female', default=0, count=14349),\n",
       " Row(SEX='Female', default=1, count=3762)]"
      ]
     },
     "execution_count": 17,
     "metadata": {},
     "output_type": "execute_result"
    }
   ],
   "source": [
    "female_data = [defaults_by_sex[1], defaults_by_sex[3]]\n",
    "female_data"
   ]
  },
  {
   "cell_type": "code",
   "execution_count": 18,
   "metadata": {},
   "outputs": [
    {
     "data": {
      "image/png": "[encoded data removed]",
      "text/plain": [
       "<Figure size 432x288 with 1 Axes>"
      ]
     },
     "metadata": {
      "needs_background": "light"
     },
     "output_type": "display_data"
    }
   ],
   "source": [
    "sns.barplot([x[1] for x in male_data], [x[2] for x in male_data])\n",
    "plt.title('Male Data')\n",
    "plt.show()"
   ]
  },
  {
   "cell_type": "code",
   "execution_count": 19,
   "metadata": {},
   "outputs": [
    {
     "data": {
      "image/png": "[encoded data removed]",
      "text/plain": [
       "<Figure size 432x288 with 1 Axes>"
      ]
     },
     "metadata": {
      "needs_background": "light"
     },
     "output_type": "display_data"
    }
   ],
   "source": [
    "sns.barplot([x[1] for x in female_data], [x[2] for x in female_data])\n",
    "plt.title('Female Data')\n",
    "plt.show()"
   ]
  },
  {
   "cell_type": "markdown",
   "metadata": {},
   "source": [
    "It looks like males have an ever so slightly higher default rate than females."
   ]
  },
  {
   "cell_type": "markdown",
   "metadata": {},
   "source": [
    "## Onto the Machine Learning!"
   ]
  },
  {
   "cell_type": "markdown",
   "metadata": {},
   "source": [
    "Now, it's time to fit the data to the PySpark machine learning model pipeline. You will need:\n",
    "\n",
    "* 3 StringIndexers (for each categorical feature)\n",
    "* A OneHotEncoderEstimator (to encode the newly indexed strings into categorical variables)\n",
    "* A VectorAssembler (to combine all features into one SparseVector)\n",
    "\n",
    "All of these initialized estimators should be stored in a list."
   ]
  },
  {
   "cell_type": "code",
   "execution_count": 20,
   "metadata": {},
   "outputs": [],
   "source": [
    "# importing the necessary modules\n",
    "from pyspark.ml import feature\n",
    "from pyspark.ml.feature import StringIndexer, VectorAssembler, OneHotEncoder\n",
    "from pyspark.ml.tuning import ParamGridBuilder, TrainValidationSplit, CrossValidator\n",
    "from pyspark.ml import Pipeline"
   ]
  },
  {
   "cell_type": "code",
   "execution_count": 21,
   "metadata": {},
   "outputs": [],
   "source": [
    "# creating the string indexers\n",
    "string_indexer_1 = StringIndexer(inputCol='EDUCATION', outputCol='EDUCATION_NUM', handleInvalid='keep')\n",
    "string_indexer_2 = StringIndexer(inputCol='MARRIAGE', outputCol='MARRIAGE_NUM', handleInvalid='keep')\n",
    "string_indexer_3 = StringIndexer(inputCol='SEX', outputCol='SEX_NUM', handleInvalid='keep')"
   ]
  },
  {
   "cell_type": "code",
   "execution_count": 22,
   "metadata": {},
   "outputs": [
    {
     "data": {
      "text/plain": [
       "['ID',\n",
       " 'LIMIT_BAL',\n",
       " 'SEX',\n",
       " 'EDUCATION',\n",
       " 'MARRIAGE',\n",
       " 'AGE',\n",
       " 'PAY_0',\n",
       " 'PAY_2',\n",
       " 'PAY_3',\n",
       " 'PAY_4',\n",
       " 'PAY_5',\n",
       " 'PAY_6',\n",
       " 'BILL_AMT1',\n",
       " 'BILL_AMT2',\n",
       " 'BILL_AMT3',\n",
       " 'BILL_AMT4',\n",
       " 'BILL_AMT5',\n",
       " 'BILL_AMT6',\n",
       " 'PAY_AMT1',\n",
       " 'PAY_AMT2',\n",
       " 'PAY_AMT3',\n",
       " 'PAY_AMT4',\n",
       " 'PAY_AMT5',\n",
       " 'PAY_AMT6',\n",
       " 'default']"
      ]
     },
     "execution_count": 22,
     "metadata": {},
     "output_type": "execute_result"
    }
   ],
   "source": [
    "spark_df_done.columns"
   ]
  },
  {
   "cell_type": "code",
   "execution_count": 23,
   "metadata": {},
   "outputs": [],
   "source": [
    "# features to be included in the model\n",
    "features = ['ID',\n",
    " 'LIMIT_BAL',\n",
    " 'SEX_VEC',\n",
    " 'EDUCATION_VEC',\n",
    " 'MARRIAGE_VEC',\n",
    " 'AGE',\n",
    " 'PAY_0',\n",
    " 'PAY_2',\n",
    " 'PAY_3',\n",
    " 'PAY_4',\n",
    " 'PAY_5',\n",
    " 'PAY_6',\n",
    " 'BILL_AMT1',\n",
    " 'BILL_AMT2',\n",
    " 'BILL_AMT3',\n",
    " 'BILL_AMT4',\n",
    " 'BILL_AMT5',\n",
    " 'BILL_AMT6',\n",
    " 'PAY_AMT1',\n",
    " 'PAY_AMT2',\n",
    " 'PAY_AMT3',\n",
    " 'PAY_AMT4',\n",
    " 'PAY_AMT5',\n",
    " 'PAY_AMT6']\n"
   ]
  },
  {
   "cell_type": "code",
   "execution_count": 24,
   "metadata": {},
   "outputs": [],
   "source": [
    "# adding the categorical features\n",
    "one_hot_encoder = OneHotEncoder(inputCols=['SEX_NUM', 'EDUCATION_NUM', 'MARRIAGE_NUM'],\n",
    "                               outputCols=['SEX_VEC', 'EDUCATION_VEC', 'MARRIAGE_VEC'],\n",
    "                               dropLast=True)"
   ]
  },
  {
   "cell_type": "code",
   "execution_count": 25,
   "metadata": {},
   "outputs": [],
   "source": [
    "# putting all of the features into a single vector\n",
    "vector_assembler = VectorAssembler(inputCols=features, outputCol='features')"
   ]
  },
  {
   "cell_type": "markdown",
   "metadata": {},
   "source": [
    "Alright! Now let's see if that worked. Let's investigate how it transforms your dataset. Put all of the stages in a Pipeline and fit it to your data. Look at the features column. Did you obtain the number of features you expected?"
   ]
  },
  {
   "cell_type": "code",
   "execution_count": 42,
   "metadata": {},
   "outputs": [],
   "source": [
    "from pyspark.ml.pipeline import Pipeline\n",
    "stages = [string_indexer_1, string_indexer_2, string_indexer_3, one_hot_encoder, vector_assembler]\n",
    "pipe = Pipeline(stages=stages)"
   ]
  },
  {
   "cell_type": "code",
   "execution_count": 27,
   "metadata": {},
   "outputs": [
    {
     "data": {
      "text/plain": [
       "Row(features=DenseVector([2.0, 120000.0, 1.0, 0.0, 1.0, 0.0, 0.0, 0.0, 1.0, 0.0, 0.0, 26.0, -1.0, 2.0, 0.0, 0.0, 0.0, 2.0, 2682.0, 1725.0, 2682.0, 3272.0, 3455.0, 3261.0, 0.0, 1000.0, 1000.0, 1000.0, 0.0, 2000.0]))"
      ]
     },
     "execution_count": 27,
     "metadata": {},
     "output_type": "execute_result"
    }
   ],
   "source": [
    "data_transformer = pipe.fit(spark_df_done)\n",
    "transformed_data = data_transformer.transform(spark_df_done)\n",
    "features = transformed_data.select('features')\n",
    "features.head()\n",
    "# 17 numerical features and 6 categorical ones (the argument dropLast = True makes us have Sex, 3 Edu variables and 2 marriage)"
   ]
  },
  {
   "cell_type": "markdown",
   "metadata": {},
   "source": [
    "## Fitting Machine Learning Models\n",
    "That looks good! Now let's go ahead and fit data to different machine learning models. To evaluate these models, you should use the `BinaryClassificationEvaluator`. Below is an import of all the classes and libraries you'll need in the remainder of this lab."
   ]
  },
  {
   "cell_type": "code",
   "execution_count": 28,
   "metadata": {},
   "outputs": [],
   "source": [
    "from pyspark.ml.classification import GBTClassifier, DecisionTreeClassifier, LogisticRegression, RandomForestClassifier\n",
    "from pyspark.ml.tuning import ParamGridBuilder, CrossValidator, TrainValidationSplit\n",
    "from pyspark.ml.evaluation import BinaryClassificationEvaluator\n",
    "import numpy as np"
   ]
  },
  {
   "cell_type": "markdown",
   "metadata": {},
   "source": [
    "### Logistic Regression\n",
    "\n",
    "First, we'll try with a simple Logistic Regression Model:\n",
    "\n",
    "* instantiate a logistic regression model\n",
    "* add it to the stages list\n",
    "* instantiate a new Pipeline estimator (not fit) with all of the stages\n",
    "* instantiate an `BinaryClassificationEvaluator`\n",
    "* create parameters to gridsearch through using `ParamGridBuilder`\n",
    "* Instantiate and fit a `CrossValidator` "
   ]
  },
  {
   "cell_type": "code",
   "execution_count": 29,
   "metadata": {},
   "outputs": [],
   "source": [
    "# your code here\n",
    "model = LogisticRegression(featuresCol='features', labelCol='default')\n",
    "pipe_with_model = Pipeline(stages=stages + [model])"
   ]
  },
  {
   "cell_type": "code",
   "execution_count": 30,
   "metadata": {},
   "outputs": [],
   "source": [
    "evaluator = BinaryClassificationEvaluator(labelCol = 'default',metricName='areaUnderROC')"
   ]
  },
  {
   "cell_type": "code",
   "execution_count": 31,
   "metadata": {},
   "outputs": [],
   "source": [
    "params = ParamGridBuilder().addGrid(model.aggregationDepth, [2, 5, 10])\\\n",
    "                            .addGrid(model.regParam, [0.1, 0.01])\\\n",
    "                            .build()"
   ]
  },
  {
   "cell_type": "code",
   "execution_count": 32,
   "metadata": {},
   "outputs": [],
   "source": [
    "cv = CrossValidator(estimator=pipe_with_model, estimatorParamMaps=params, evaluator=evaluator, parallelism=4)"
   ]
  },
  {
   "cell_type": "code",
   "execution_count": 33,
   "metadata": {
    "scrolled": false
   },
   "outputs": [],
   "source": [
    "cv_model = cv.fit(spark_df_done)"
   ]
  },
  {
   "cell_type": "markdown",
   "metadata": {},
   "source": [
    "Determine how well your model performed by looking at the evaluator metrics. If you tried multiple parameters, which performed best?"
   ]
  },
  {
   "cell_type": "code",
   "execution_count": 34,
   "metadata": {},
   "outputs": [
    {
     "name": "stdout",
     "output_type": "stream",
     "text": [
      "AUC  0.7234642660444743\n"
     ]
    }
   ],
   "source": [
    "# print out the AUC of your best model as well as the parameters of your best model\n",
    "index_best_model = np.argmax(cv_model.avgMetrics)\n",
    "print('AUC ', cv_model.avgMetrics[index_best_model])"
   ]
  },
  {
   "cell_type": "code",
   "execution_count": 35,
   "metadata": {},
   "outputs": [
    {
     "name": "stdout",
     "output_type": "stream",
     "text": [
      "{Param(parent='LogisticRegression_0d211c9c99d1', name='aggregationDepth', doc='suggested depth for treeAggregate (>= 2).'): 2, Param(parent='LogisticRegression_0d211c9c99d1', name='regParam', doc='regularization parameter (>= 0).'): 0.01}\n"
     ]
    }
   ],
   "source": [
    "print(params[index_best_model])"
   ]
  },
  {
   "cell_type": "markdown",
   "metadata": {},
   "source": [
    "#### Now try this again with other classifiers. Try and create a function that will allow you to easily test different models with different parameters. This function is optional, but it should allow for your code to be far more D.R.Y. The function should return the fitted cross-validated model as well as print out the performance metrics of the best performing model and the best parameters."
   ]
  },
  {
   "cell_type": "code",
   "execution_count": 36,
   "metadata": {},
   "outputs": [],
   "source": [
    "# create function to cross validate models with different parameters\n",
    "\n",
    "def cross_val_a_model(df, model, stages, params):\n",
    "    pipe = Pipeline(stages=stages + [model])\n",
    "    evaluator = BinaryClassificationEvaluator(labelCol = 'default',metricName='areaUnderROC')\n",
    "    cv = CrossValidator(estimator=pipe, \n",
    "                        estimatorParamMaps=params, \n",
    "                        evaluator=evaluator, \n",
    "                        parallelism=4)\n",
    "    cv_model = cv.fit(df)\n",
    "    \n",
    "    index_best_model = np.argmax(cv_model.avgMetrics)\n",
    "    print('AUC ', cv_model.avgMetrics[index_best_model])\n",
    "    print('Best Parameters')\n",
    "    print(params[index_best_model])\n",
    "    \n",
    "    return cv_model"
   ]
  },
  {
   "cell_type": "markdown",
   "metadata": {},
   "source": [
    "Train a Random Forest classifier and determine the best performing model with the best parameters. This might take a while! Be smart about how you use parallelization here."
   ]
  },
  {
   "cell_type": "code",
   "execution_count": 43,
   "metadata": {},
   "outputs": [
    {
     "name": "stdout",
     "output_type": "stream",
     "text": [
      "AUC  0.7714716301970217\n",
      "Best Parameters\n",
      "{Param(parent='RandomForestClassifier_531a78feba75', name='maxDepth', doc='Maximum depth of the tree. (>= 0) E.g., depth 0 means 1 leaf node; depth 1 means 1 internal node + 2 leaf nodes.'): 5, Param(parent='RandomForestClassifier_531a78feba75', name='numTrees', doc='Number of trees to train (>= 1).'): 20}\n"
     ]
    },
    {
     "data": {
      "text/plain": [
       "CrossValidatorModel_3c814934749c"
      ]
     },
     "execution_count": 43,
     "metadata": {},
     "output_type": "execute_result"
    }
   ],
   "source": [
    "# code to train Random Forest Classifier\n",
    "# ⏰ This cell may take a long time to run\n",
    "rfc = RandomForestClassifier(featuresCol='features' , labelCol='default')\n",
    "params = ParamGridBuilder()\\\n",
    "          .addGrid(rfc.maxDepth, [5, 10, 15])\\\n",
    "          .addGrid(rfc.numTrees, [20 ,50, 100])\\\n",
    "          .build()\n",
    "rfc = RandomForestClassifier(featuresCol='features' , labelCol='default')\n",
    "cross_val_a_model(spark_df_done, rfc, stages, params)"
   ]
  },
  {
   "cell_type": "markdown",
   "metadata": {},
   "source": [
    "Now train a Gradient Boosting Classifier. **This might take a very long time depending on the number of parameters you are training**"
   ]
  },
  {
   "cell_type": "code",
   "execution_count": 46,
   "metadata": {},
   "outputs": [
    {
     "name": "stdout",
     "output_type": "stream",
     "text": [
      "AUC  0.7805506080412217\n",
      "Best Parameters\n",
      "{Param(parent='GBTClassifier_bf3bc3925383', name='maxDepth', doc='Maximum depth of the tree. (>= 0) E.g., depth 0 means 1 leaf node; depth 1 means 1 internal node + 2 leaf nodes.'): 5, Param(parent='GBTClassifier_bf3bc3925383', name='maxIter', doc='max number of iterations (>= 0).'): 50}\n"
     ]
    },
    {
     "data": {
      "text/plain": [
       "CrossValidatorModel_679c72f93752"
      ]
     },
     "execution_count": 46,
     "metadata": {},
     "output_type": "execute_result"
    }
   ],
   "source": [
    "# code to train Gradient Boosting Classifier\n",
    "# ⏰ This cell may take a long time to run\n",
    "gbc = GBTClassifier(featuresCol='features' , labelCol='default')\n",
    "params = ParamGridBuilder()\\\n",
    "          .addGrid(gbc.maxDepth, [1,5])\\\n",
    "          .addGrid(gbc.maxIter, [20 ,50, 100])\\\n",
    "          .build()\n",
    "cross_val_a_model(spark_df_done, gbc, stages, params)"
   ]
  },
  {
   "cell_type": "markdown",
   "metadata": {},
   "source": [
    "It looks like the optimal performing model is the Random Forest Classifier Model because it has the highest AUC!\n",
    "\n",
    "## Level Up (Optional)\n",
    "\n",
    "* Create ROC curves for each of these models\n",
    "* Try the multi-layer perceptron classifier algorithm. You will soon learn about what this means in the neural network section!"
   ]
  },
  {
   "cell_type": "markdown",
   "metadata": {},
   "source": [
    "## Summary\n",
    "\n",
    "If you've made it thus far, congratulations! Spark is an in-demand skill, but it is not particularly easy to master. In this lesson, you fit multiple different machine learning pipelines for a classification problem. If you want to take your Spark skills to the next level, connect to a distributed cluster using a service like AWS or Databricks and perform these Spark operations on the cloud."
   ]
  }
 ],
 "metadata": {
  "kernelspec": {
   "display_name": "Python 3",
   "language": "python",
   "name": "python3"
  },
  "language_info": {
   "codemirror_mode": {
    "name": "ipython",
    "version": 3
   },
   "file_extension": ".py",
   "mimetype": "text/x-python",
   "name": "python",
   "nbconvert_exporter": "python",
   "pygments_lexer": "ipython3",
   "version": "3.8.4"
  }
 },
 "nbformat": 4,
 "nbformat_minor": 2
}
